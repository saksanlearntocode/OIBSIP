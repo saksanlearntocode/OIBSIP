{
 "cells": [
  {
   "cell_type": "code",
   "execution_count": 1,
   "id": "b73a1b68",
   "metadata": {},
   "outputs": [],
   "source": [
    "import numpy as np\n",
    "import pandas as pd\n",
    "from sklearn.model_selection import train_test_split\n",
    "from sklearn.feature_extraction.text import TfidfVectorizer\n",
    "from sklearn.linear_model import LogisticRegression\n",
    "from sklearn.metrics import accuracy_score"
   ]
  },
  {
   "cell_type": "code",
   "execution_count": 2,
   "id": "294d879a",
   "metadata": {},
   "outputs": [],
   "source": [
    "data=pd.read_csv('spamdetection.csv',encoding = \"ISO-8859-1\")"
   ]
  },
  {
   "cell_type": "code",
   "execution_count": 3,
   "id": "1701e03c",
   "metadata": {},
   "outputs": [
    {
     "name": "stdout",
     "output_type": "stream",
     "text": [
      "        v1                                                 v2 Unnamed: 2  \\\n",
      "0      ham  Go until jurong point, crazy.. Available only ...        NaN   \n",
      "1      ham                      Ok lar... Joking wif u oni...        NaN   \n",
      "2     spam  Free entry in 2 a wkly comp to win FA Cup fina...        NaN   \n",
      "3      ham  U dun say so early hor... U c already then say...        NaN   \n",
      "4      ham  Nah I don't think he goes to usf, he lives aro...        NaN   \n",
      "...    ...                                                ...        ...   \n",
      "5567  spam  This is the 2nd time we have tried 2 contact u...        NaN   \n",
      "5568   ham              Will Ì_ b going to esplanade fr home?        NaN   \n",
      "5569   ham  Pity, * was in mood for that. So...any other s...        NaN   \n",
      "5570   ham  The guy did some bitching but I acted like i'd...        NaN   \n",
      "5571   ham                         Rofl. Its true to its name        NaN   \n",
      "\n",
      "     Unnamed: 3 Unnamed: 4  \n",
      "0           NaN        NaN  \n",
      "1           NaN        NaN  \n",
      "2           NaN        NaN  \n",
      "3           NaN        NaN  \n",
      "4           NaN        NaN  \n",
      "...         ...        ...  \n",
      "5567        NaN        NaN  \n",
      "5568        NaN        NaN  \n",
      "5569        NaN        NaN  \n",
      "5570        NaN        NaN  \n",
      "5571        NaN        NaN  \n",
      "\n",
      "[5572 rows x 5 columns]\n"
     ]
    }
   ],
   "source": [
    "print(data)"
   ]
  },
  {
   "cell_type": "code",
   "execution_count": 4,
   "id": "f39b0a50",
   "metadata": {},
   "outputs": [
    {
     "data": {
      "text/plain": [
       "(5572, 5)"
      ]
     },
     "execution_count": 4,
     "metadata": {},
     "output_type": "execute_result"
    }
   ],
   "source": [
    "data.shape"
   ]
  },
  {
   "cell_type": "code",
   "execution_count": 5,
   "id": "50525d52",
   "metadata": {},
   "outputs": [
    {
     "data": {
      "text/plain": [
       "v1               0\n",
       "v2               0\n",
       "Unnamed: 2    5522\n",
       "Unnamed: 3    5560\n",
       "Unnamed: 4    5566\n",
       "dtype: int64"
      ]
     },
     "execution_count": 5,
     "metadata": {},
     "output_type": "execute_result"
    }
   ],
   "source": [
    "data.isnull().sum(axis=0)"
   ]
  },
  {
   "cell_type": "code",
   "execution_count": 6,
   "id": "1d1eeb29",
   "metadata": {},
   "outputs": [
    {
     "name": "stdout",
     "output_type": "stream",
     "text": [
      "<class 'pandas.core.frame.DataFrame'>\n",
      "RangeIndex: 5572 entries, 0 to 5571\n",
      "Data columns (total 5 columns):\n",
      " #   Column      Non-Null Count  Dtype \n",
      "---  ------      --------------  ----- \n",
      " 0   v1          5572 non-null   object\n",
      " 1   v2          5572 non-null   object\n",
      " 2   Unnamed: 2  50 non-null     object\n",
      " 3   Unnamed: 3  12 non-null     object\n",
      " 4   Unnamed: 4  6 non-null      object\n",
      "dtypes: object(5)\n",
      "memory usage: 217.8+ KB\n"
     ]
    }
   ],
   "source": [
    "data.info()"
   ]
  },
  {
   "cell_type": "code",
   "execution_count": 7,
   "id": "03122c42",
   "metadata": {},
   "outputs": [],
   "source": [
    "data1=data.where((pd.notnull(data)),'')"
   ]
  },
  {
   "cell_type": "code",
   "execution_count": 8,
   "id": "85438466",
   "metadata": {},
   "outputs": [
    {
     "data": {
      "text/plain": [
       "v1            0\n",
       "v2            0\n",
       "Unnamed: 2    0\n",
       "Unnamed: 3    0\n",
       "Unnamed: 4    0\n",
       "dtype: int64"
      ]
     },
     "execution_count": 8,
     "metadata": {},
     "output_type": "execute_result"
    }
   ],
   "source": [
    "data1.isnull().sum(axis=0)"
   ]
  },
  {
   "cell_type": "code",
   "execution_count": 44,
   "id": "4f427491",
   "metadata": {},
   "outputs": [],
   "source": [
    "data1['v3']=data1['v2']+data1['Unnamed: 2']+data1['Unnamed: 3']+data1['Unnamed: 4']"
   ]
  },
  {
   "cell_type": "code",
   "execution_count": 18,
   "id": "dc6674f7",
   "metadata": {},
   "outputs": [
    {
     "name": "stdout",
     "output_type": "stream",
     "text": [
      "     v1                                                 v2 Unnamed: 2  \\\n",
      "0     1  Go until jurong point, crazy.. Available only ...              \n",
      "1     1                      Ok lar... Joking wif u oni...              \n",
      "2     0  Free entry in 2 a wkly comp to win FA Cup fina...              \n",
      "3     1  U dun say so early hor... U c already then say...              \n",
      "4     1  Nah I don't think he goes to usf, he lives aro...              \n",
      "...  ..                                                ...        ...   \n",
      "5567  0  This is the 2nd time we have tried 2 contact u...              \n",
      "5568  1              Will Ì_ b going to esplanade fr home?              \n",
      "5569  1  Pity, * was in mood for that. So...any other s...              \n",
      "5570  1  The guy did some bitching but I acted like i'd...              \n",
      "5571  1                         Rofl. Its true to its name              \n",
      "\n",
      "     Unnamed: 3 Unnamed: 4                                                 v3  \n",
      "0                           Go until jurong point, crazy.. Available only ...  \n",
      "1                                               Ok lar... Joking wif u oni...  \n",
      "2                           Free entry in 2 a wkly comp to win FA Cup fina...  \n",
      "3                           U dun say so early hor... U c already then say...  \n",
      "4                           Nah I don't think he goes to usf, he lives aro...  \n",
      "...         ...        ...                                                ...  \n",
      "5567                        This is the 2nd time we have tried 2 contact u...  \n",
      "5568                                    Will Ì_ b going to esplanade fr home?  \n",
      "5569                        Pity, * was in mood for that. So...any other s...  \n",
      "5570                        The guy did some bitching but I acted like i'd...  \n",
      "5571                                               Rofl. Its true to its name  \n",
      "\n",
      "[5572 rows x 6 columns]\n"
     ]
    }
   ],
   "source": [
    "print(data1)"
   ]
  },
  {
   "cell_type": "code",
   "execution_count": 19,
   "id": "0e7c63bb",
   "metadata": {},
   "outputs": [
    {
     "data": {
      "text/html": [
       "<div>\n",
       "<style scoped>\n",
       "    .dataframe tbody tr th:only-of-type {\n",
       "        vertical-align: middle;\n",
       "    }\n",
       "\n",
       "    .dataframe tbody tr th {\n",
       "        vertical-align: top;\n",
       "    }\n",
       "\n",
       "    .dataframe thead th {\n",
       "        text-align: right;\n",
       "    }\n",
       "</style>\n",
       "<table border=\"1\" class=\"dataframe\">\n",
       "  <thead>\n",
       "    <tr style=\"text-align: right;\">\n",
       "      <th></th>\n",
       "      <th>v1</th>\n",
       "      <th>v3</th>\n",
       "    </tr>\n",
       "  </thead>\n",
       "  <tbody>\n",
       "    <tr>\n",
       "      <th>0</th>\n",
       "      <td>1</td>\n",
       "      <td>Go until jurong point, crazy.. Available only ...</td>\n",
       "    </tr>\n",
       "    <tr>\n",
       "      <th>1</th>\n",
       "      <td>1</td>\n",
       "      <td>Ok lar... Joking wif u oni...</td>\n",
       "    </tr>\n",
       "    <tr>\n",
       "      <th>2</th>\n",
       "      <td>0</td>\n",
       "      <td>Free entry in 2 a wkly comp to win FA Cup fina...</td>\n",
       "    </tr>\n",
       "    <tr>\n",
       "      <th>3</th>\n",
       "      <td>1</td>\n",
       "      <td>U dun say so early hor... U c already then say...</td>\n",
       "    </tr>\n",
       "    <tr>\n",
       "      <th>4</th>\n",
       "      <td>1</td>\n",
       "      <td>Nah I don't think he goes to usf, he lives aro...</td>\n",
       "    </tr>\n",
       "    <tr>\n",
       "      <th>...</th>\n",
       "      <td>...</td>\n",
       "      <td>...</td>\n",
       "    </tr>\n",
       "    <tr>\n",
       "      <th>5567</th>\n",
       "      <td>0</td>\n",
       "      <td>This is the 2nd time we have tried 2 contact u...</td>\n",
       "    </tr>\n",
       "    <tr>\n",
       "      <th>5568</th>\n",
       "      <td>1</td>\n",
       "      <td>Will Ì_ b going to esplanade fr home?</td>\n",
       "    </tr>\n",
       "    <tr>\n",
       "      <th>5569</th>\n",
       "      <td>1</td>\n",
       "      <td>Pity, * was in mood for that. So...any other s...</td>\n",
       "    </tr>\n",
       "    <tr>\n",
       "      <th>5570</th>\n",
       "      <td>1</td>\n",
       "      <td>The guy did some bitching but I acted like i'd...</td>\n",
       "    </tr>\n",
       "    <tr>\n",
       "      <th>5571</th>\n",
       "      <td>1</td>\n",
       "      <td>Rofl. Its true to its name</td>\n",
       "    </tr>\n",
       "  </tbody>\n",
       "</table>\n",
       "<p>5572 rows × 2 columns</p>\n",
       "</div>"
      ],
      "text/plain": [
       "     v1                                                 v3\n",
       "0     1  Go until jurong point, crazy.. Available only ...\n",
       "1     1                      Ok lar... Joking wif u oni...\n",
       "2     0  Free entry in 2 a wkly comp to win FA Cup fina...\n",
       "3     1  U dun say so early hor... U c already then say...\n",
       "4     1  Nah I don't think he goes to usf, he lives aro...\n",
       "...  ..                                                ...\n",
       "5567  0  This is the 2nd time we have tried 2 contact u...\n",
       "5568  1              Will Ì_ b going to esplanade fr home?\n",
       "5569  1  Pity, * was in mood for that. So...any other s...\n",
       "5570  1  The guy did some bitching but I acted like i'd...\n",
       "5571  1                         Rofl. Its true to its name\n",
       "\n",
       "[5572 rows x 2 columns]"
      ]
     },
     "execution_count": 19,
     "metadata": {},
     "output_type": "execute_result"
    }
   ],
   "source": [
    "data1.drop(['v2','Unnamed: 2','Unnamed: 3','Unnamed: 4'],axis=1)\n"
   ]
  },
  {
   "cell_type": "code",
   "execution_count": 20,
   "id": "09021e18",
   "metadata": {},
   "outputs": [],
   "source": [
    "data1.loc[data1['v1']=='spam','v1',]=0\n",
    "data1.loc[data1['v1']=='ham','v1',]=1"
   ]
  },
  {
   "cell_type": "code",
   "execution_count": 46,
   "id": "20cf62f3",
   "metadata": {},
   "outputs": [],
   "source": [
    "x1=data1['v3']\n",
    "x2=data1['v1']"
   ]
  },
  {
   "cell_type": "code",
   "execution_count": 49,
   "id": "aeca5b6c",
   "metadata": {},
   "outputs": [
    {
     "name": "stdout",
     "output_type": "stream",
     "text": [
      "0       Go until jurong point, crazy.. Available only ...\n",
      "1                           Ok lar... Joking wif u oni...\n",
      "2       Free entry in 2 a wkly comp to win FA Cup fina...\n",
      "3       U dun say so early hor... U c already then say...\n",
      "4       Nah I don't think he goes to usf, he lives aro...\n",
      "                              ...                        \n",
      "5567    This is the 2nd time we have tried 2 contact u...\n",
      "5568                Will Ì_ b going to esplanade fr home?\n",
      "5569    Pity, * was in mood for that. So...any other s...\n",
      "5570    The guy did some bitching but I acted like i'd...\n",
      "5571                           Rofl. Its true to its name\n",
      "Name: v3, Length: 5572, dtype: object\n"
     ]
    }
   ],
   "source": [
    "print(x1)"
   ]
  },
  {
   "cell_type": "code",
   "execution_count": 50,
   "id": "78c0afe7",
   "metadata": {},
   "outputs": [
    {
     "name": "stdout",
     "output_type": "stream",
     "text": [
      "0       1\n",
      "1       1\n",
      "2       0\n",
      "3       1\n",
      "4       1\n",
      "       ..\n",
      "5567    0\n",
      "5568    1\n",
      "5569    1\n",
      "5570    1\n",
      "5571    1\n",
      "Name: v1, Length: 5572, dtype: object\n"
     ]
    }
   ],
   "source": [
    "print(x2)"
   ]
  },
  {
   "cell_type": "code",
   "execution_count": 51,
   "id": "f6f8042a",
   "metadata": {},
   "outputs": [],
   "source": [
    "x1_train,x1_test,x2_train,x2_test = train_test_split(x1,x2,test_size=0.2,random_state=3)"
   ]
  },
  {
   "cell_type": "code",
   "execution_count": 52,
   "id": "3f5be670",
   "metadata": {},
   "outputs": [
    {
     "name": "stdout",
     "output_type": "stream",
     "text": [
      "(5572,)\n",
      "(4457,)\n",
      "(1115,)\n"
     ]
    }
   ],
   "source": [
    "print(x1.shape)\n",
    "print(x1_train.shape)\n",
    "print(x1_test.shape)\n"
   ]
  },
  {
   "cell_type": "code",
   "execution_count": 60,
   "id": "6849690f",
   "metadata": {},
   "outputs": [],
   "source": [
    "feature_extraction=TfidfVectorizer(min_df=1,stop_words='english',lowercase='True')\n",
    "x1_train_feature=feature_extraction.fit_transform(x1_train)\n",
    "x1_test_feature=feature_extraction.transform(x1_test)\n",
    "\n",
    "x2_train= x2_train.astype('int')\n",
    "x2_test=x2_test.astype('int')"
   ]
  },
  {
   "cell_type": "code",
   "execution_count": 61,
   "id": "c7e8cffa",
   "metadata": {},
   "outputs": [
    {
     "name": "stdout",
     "output_type": "stream",
     "text": [
      "  (0, 752)\t0.3220379170882347\n",
      "  (0, 4028)\t0.24113508261715996\n",
      "  (0, 4348)\t0.3892626814654949\n",
      "  (0, 6674)\t0.2030335096759667\n",
      "  (0, 3427)\t0.3220379170882347\n",
      "  (0, 2147)\t0.3857054061603119\n",
      "  (0, 3172)\t0.44025652511151514\n",
      "  (0, 3301)\t0.2588528698483287\n",
      "  (0, 3420)\t0.2176582962091128\n",
      "  (0, 4567)\t0.2910576922728254\n",
      "  (1, 4110)\t0.380431198316959\n",
      "  (1, 6953)\t0.4306015894277422\n",
      "  (1, 6492)\t0.4769136859540388\n",
      "  (1, 6517)\t0.5652509076654626\n",
      "  (1, 7532)\t0.35056971070320353\n",
      "  (2, 946)\t0.4917598465723273\n",
      "  (2, 2133)\t0.42972812260098503\n",
      "  (2, 3965)\t0.40088501350982736\n",
      "  (2, 2251)\t0.413484525934624\n",
      "  (2, 5898)\t0.4917598465723273\n",
      "  (3, 6214)\t0.490566268030202\n",
      "  (3, 1621)\t0.5929266847710395\n",
      "  (3, 1864)\t0.37001355926569357\n",
      "  (3, 7542)\t0.5204542718787862\n",
      "  (4, 2559)\t0.7422865729680209\n",
      "  :\t:\n",
      "  (4452, 2147)\t0.31254518021348604\n",
      "  (4453, 1012)\t0.6760129013031282\n",
      "  (4453, 7361)\t0.5787739591782677\n",
      "  (4453, 1784)\t0.45610005640082985\n",
      "  (4454, 3064)\t0.4262945990163933\n",
      "  (4454, 2110)\t0.38106367960758625\n",
      "  (4454, 3124)\t0.3448412711299357\n",
      "  (4454, 2024)\t0.4167950488815833\n",
      "  (4454, 1062)\t0.3193996459223235\n",
      "  (4454, 7435)\t0.3109446139118902\n",
      "  (4454, 5436)\t0.4262945990163933\n",
      "  (4455, 1162)\t0.39041176947048223\n",
      "  (4455, 6508)\t0.39041176947048223\n",
      "  (4455, 6436)\t0.257257135006767\n",
      "  (4455, 2793)\t0.3229885602536263\n",
      "  (4455, 7447)\t0.291916883042644\n",
      "  (4455, 7496)\t0.3000898031960942\n",
      "  (4455, 2132)\t0.31399310409370035\n",
      "  (4455, 4303)\t0.3065045782206861\n",
      "  (4455, 3810)\t0.16809957068272435\n",
      "  (4455, 4831)\t0.3585957456681499\n",
      "  (4456, 6191)\t0.5304350313291551\n",
      "  (4456, 6207)\t0.5304350313291551\n",
      "  (4456, 1405)\t0.4460036316446079\n",
      "  (4456, 4612)\t0.48821933148688146\n"
     ]
    }
   ],
   "source": [
    "print(x1_train_feature)"
   ]
  },
  {
   "cell_type": "code",
   "execution_count": 62,
   "id": "860e189f",
   "metadata": {},
   "outputs": [],
   "source": [
    "model=LogisticRegression()"
   ]
  },
  {
   "cell_type": "code",
   "execution_count": 63,
   "id": "701fd2f2",
   "metadata": {},
   "outputs": [
    {
     "data": {
      "text/plain": [
       "LogisticRegression()"
      ]
     },
     "execution_count": 63,
     "metadata": {},
     "output_type": "execute_result"
    }
   ],
   "source": [
    "model.fit(x1_train_feature,x2_train)"
   ]
  },
  {
   "cell_type": "code",
   "execution_count": 66,
   "id": "6238c502",
   "metadata": {},
   "outputs": [],
   "source": [
    "prediction_training=model.predict(x1_train_feature)\n",
    "accuracy_train=accuracy_score(x2_train,prediction_training)"
   ]
  },
  {
   "cell_type": "code",
   "execution_count": 67,
   "id": "0c4e0902",
   "metadata": {},
   "outputs": [
    {
     "name": "stdout",
     "output_type": "stream",
     "text": [
      "0.9661207089970832\n"
     ]
    }
   ],
   "source": [
    "print(accuracy_train)"
   ]
  },
  {
   "cell_type": "code",
   "execution_count": 68,
   "id": "aac53de2",
   "metadata": {},
   "outputs": [],
   "source": [
    "prediction_testing=model.predict(x1_test_feature)\n",
    "accuracy_test=accuracy_score(x2_test,prediction_testing)"
   ]
  },
  {
   "cell_type": "code",
   "execution_count": 69,
   "id": "dd85930d",
   "metadata": {},
   "outputs": [
    {
     "name": "stdout",
     "output_type": "stream",
     "text": [
      "0.9623318385650225\n"
     ]
    }
   ],
   "source": [
    "print(accuracy_test)"
   ]
  },
  {
   "cell_type": "code",
   "execution_count": 78,
   "id": "4c3dcbc2",
   "metadata": {},
   "outputs": [
    {
     "name": "stdout",
     "output_type": "stream",
     "text": [
      "[1]\n",
      "ham mail\n"
     ]
    }
   ],
   "source": [
    "input_mail=[\"I've been searching for the right words to thank you for this breather. I promise i wont take your help for granted and will fulfil my promise. You have been wonderful and a blessing at all times.\"]\n",
    "input_feature=feature_extraction.transform(input_mail)\n",
    "prediction=model.predict(input_feature)\n",
    "print(prediction)\n",
    "            \n",
    "if (prediction[0]==1):\n",
    "  print('ham mail')\n",
    "else:\n",
    "  print('spam mail')"
   ]
  },
  {
   "cell_type": "code",
   "execution_count": null,
   "id": "ff2a879b",
   "metadata": {},
   "outputs": [],
   "source": []
  }
 ],
 "metadata": {
  "kernelspec": {
   "display_name": "Python 3 (ipykernel)",
   "language": "python",
   "name": "python3"
  },
  "language_info": {
   "codemirror_mode": {
    "name": "ipython",
    "version": 3
   },
   "file_extension": ".py",
   "mimetype": "text/x-python",
   "name": "python",
   "nbconvert_exporter": "python",
   "pygments_lexer": "ipython3",
   "version": "3.9.13"
  }
 },
 "nbformat": 4,
 "nbformat_minor": 5
}
