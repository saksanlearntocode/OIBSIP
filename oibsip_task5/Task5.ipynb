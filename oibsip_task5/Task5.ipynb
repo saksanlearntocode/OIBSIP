{
 "cells": [
  {
   "cell_type": "code",
   "execution_count": null,
   "id": "8f3dabb8",
   "metadata": {},
   "outputs": [],
   "source": [
    "import numpy as np\n",
    "import pandas as pd\n",
    "import matplotlib.pyplot as plt"
   ]
  },
  {
   "cell_type": "code",
   "execution_count": null,
   "id": "f5847533",
   "metadata": {},
   "outputs": [],
   "source": [
    "data=pd.read_csv(\"Advertising.csv\")"
   ]
  },
  {
   "cell_type": "code",
   "execution_count": null,
   "id": "d6b8e030",
   "metadata": {},
   "outputs": [],
   "source": [
    "data"
   ]
  },
  {
   "cell_type": "code",
   "execution_count": null,
   "id": "c90f4f71",
   "metadata": {},
   "outputs": [],
   "source": [
    "del data['Unnamed: 0']\n",
    "data"
   ]
  },
  {
   "cell_type": "code",
   "execution_count": null,
   "id": "93a94fd9",
   "metadata": {},
   "outputs": [],
   "source": [
    "X = data.drop(['Sales'], axis=1).values\n",
    "y = data['Sales'].values.reshape(-1,1)"
   ]
  },
  {
   "cell_type": "code",
   "execution_count": null,
   "id": "f14683cd",
   "metadata": {},
   "outputs": [],
   "source": [
    "from sklearn.model_selection import train_test_split\n",
    "X_train, X_test, y_train, y_test = train_test_split(X, y, test_size=0.2, random_state=42)"
   ]
  },
  {
   "cell_type": "code",
   "execution_count": null,
   "id": "02afa2ec",
   "metadata": {},
   "outputs": [],
   "source": [
    "from sklearn.linear_model import LinearRegression\n",
    "regressor = LinearRegression()\n",
    "regressor.fit(X_train, y_train)"
   ]
  },
  {
   "cell_type": "code",
   "execution_count": null,
   "id": "a55dbc1b",
   "metadata": {},
   "outputs": [],
   "source": [
    "y_pred=regressor.predict(X_test)"
   ]
  },
  {
   "cell_type": "code",
   "execution_count": null,
   "id": "cfc0f85e",
   "metadata": {},
   "outputs": [],
   "source": [
    "print(\"Coefficient = \",regressor.coef_)\n",
    "print(\"Intercept = \",regressor.intercept_)\n",
    "from sklearn.metrics import r2_score\n",
    "print(\"R2 Score = %.2f\"%r2_score(y_test, y_pred))\n",
    "print(\"Sales = %.2f\"%regressor.predict([[45,50,75]]))"
   ]
  },
  {
   "cell_type": "code",
   "execution_count": null,
   "id": "77834fb3",
   "metadata": {},
   "outputs": [],
   "source": [
    "print(\"Enter the ammount you will invest on:\")\n",
    "tv = float(input(\"TV : \"))\n",
    "radio = float(input(\"Radio : \"))\n",
    "newspaper = float(input(\"Newspaper : \"))"
   ]
  },
  {
   "cell_type": "code",
   "execution_count": null,
   "id": "9947816f",
   "metadata": {},
   "outputs": [],
   "source": [
    "output = regressor.predict([[tv,radio,newspaper]])\n",
    "print(\"Sales = %.2f\"%output)"
   ]
  },
  {
   "cell_type": "code",
   "execution_count": null,
   "id": "54753bce",
   "metadata": {},
   "outputs": [],
   "source": []
  }
 ],
 "metadata": {
  "kernelspec": {
   "display_name": "Python 3 (ipykernel)",
   "language": "python",
   "name": "python3"
  },
  "language_info": {
   "codemirror_mode": {
    "name": "ipython",
    "version": 3
   },
   "file_extension": ".py",
   "mimetype": "text/x-python",
   "name": "python",
   "nbconvert_exporter": "python",
   "pygments_lexer": "ipython3",
   "version": "3.9.13"
  }
 },
 "nbformat": 4,
 "nbformat_minor": 5
}
